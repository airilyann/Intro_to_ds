{
 "cells": [
  {
   "cell_type": "markdown",
   "metadata": {},
   "source": [
    "<img src=\"https://cs7.pikabu.ru/post_img/2014/03/10/4/1394427243_1353289544.jpg\" height=\"400\" width=\"400\"> \n",
    "\n",
    "# <center> ML для маркетинга. <br>  <br> Cюжетная арка 2: отток и привлечение </center>\n",
    "\n",
    "В этом семестре мы с вами пройдём через несколько сюжетных арок. Второй такой аркой будут отток и привлечение. Им будет посвящена вторая серия из семинаров и домашек. \n",
    "\n",
    "В домашке мы поработаем с немного другой задачей классификации. Она будет связана с оттоком и превлечением клиентов. Будет весело __(но это неточно)__! \n",
    "\n",
    "## Задача:\n",
    "\n",
    "В наших руках оказались [данные со статистикой скачки мобильных приложений из Appstore.](https://www.kaggle.com/ramamet4/app-store-apple-data-set-10k-apps/home) Предположим, что мы хотим запилить своё собственное приложение и заработать на нём денег. Чтобы успешно монетизироваться, нам нужно много пользователей. Возникает задача их привлечения и последущего удержания.\n",
    "\n",
    "Для того, чтобы наше приложение привлекло много пользователей, хочется, чтобы у него были высокие рейтинги. В этой тетрадке мы попробуем обучить модель, которая будет предсказывать рейтинг приложения по его параметрам. С помощью этой модели мы сможем посмотреть на то, на какие факторы имеет смысл обращать внимание в первую очередь, а также мы посмотрим как именно долгосрочный рейтиг (удержание) отличается от краткосрочного (привлечение). \n",
    "\n",
    "\n",
    "#  Часть I (Братство предобработки) \n",
    "\n"
   ]
  },
  {
   "cell_type": "code",
   "execution_count": 27,
   "metadata": {},
   "outputs": [],
   "source": [
    "# Как обычно, для начала подгружаем нужные нам пакеты\n",
    "import pandas as pd    # пакет для работы с таблицами \n",
    "import numpy as np     # пакет для работы с матрицами \n",
    "\n",
    "# пакеты для картиночек \n",
    "import matplotlib\n",
    "import matplotlib.pyplot as plt\n",
    "\n",
    "import seaborn as sns\n",
    "%matplotlib inline"
   ]
  },
  {
   "cell_type": "markdown",
   "metadata": {},
   "source": [
    "Наш набор данных содержит более $7000$ наблюдений о мобильных приложениях под IOS. \n",
    "\n",
    "__Описание переменных:__\n",
    "\n",
    "* `id` - идентификатор приложения;\n",
    "* `track_name` - название приложения;\n",
    "* `size_bytes` - размер приложения в байтах;\n",
    "* `currency` - тип валюты, в которой платят за приложение;\n",
    "* `price` - цена приложения;\n",
    "* `rating_count_tot` - число проголосовавших юзеров;\n",
    "* `rating_count_ver` - число проголосовавших юзеров (для текущей версии приложения);\n",
    "* `user_rating` - среднее значение рейтинга для всех версий;\n",
    "* `user_rating_ver` - среднее значение рейтинга для текущей версии;\n",
    "* `ver` - код последней версии;\n",
    "* `cont_rating` - возрастные ограничения;\n",
    "* `prime_genre` - жанр;\n",
    "* `sup_devices.num` - число поддерживающих устройств;\n",
    "* `ipadSc_urls.num` - число скриншотов с примерами;\n",
    "* `lang.num` - число поддерживаемых языков;\n",
    "* `vpp_lic` - есть ли лицензия VPP;\n",
    "* `app_desc` - описание приложения. \n"
   ]
  },
  {
   "cell_type": "code",
   "execution_count": 29,
   "metadata": {},
   "outputs": [
    {
     "name": "stdout",
     "output_type": "stream",
     "text": [
      "(7197, 16)\n"
     ]
    },
    {
     "data": {
      "text/html": [
       "<div>\n",
       "<style scoped>\n",
       "    .dataframe tbody tr th:only-of-type {\n",
       "        vertical-align: middle;\n",
       "    }\n",
       "\n",
       "    .dataframe tbody tr th {\n",
       "        vertical-align: top;\n",
       "    }\n",
       "\n",
       "    .dataframe thead th {\n",
       "        text-align: right;\n",
       "    }\n",
       "</style>\n",
       "<table border=\"1\" class=\"dataframe\">\n",
       "  <thead>\n",
       "    <tr style=\"text-align: right;\">\n",
       "      <th></th>\n",
       "      <th>track_name</th>\n",
       "      <th>size_bytes</th>\n",
       "      <th>currency</th>\n",
       "      <th>price</th>\n",
       "      <th>rating_count_tot</th>\n",
       "      <th>rating_count_ver</th>\n",
       "      <th>user_rating</th>\n",
       "      <th>user_rating_ver</th>\n",
       "      <th>ver</th>\n",
       "      <th>cont_rating</th>\n",
       "      <th>prime_genre</th>\n",
       "      <th>sup_devices.num</th>\n",
       "      <th>ipadSc_urls.num</th>\n",
       "      <th>lang.num</th>\n",
       "      <th>vpp_lic</th>\n",
       "      <th>app_desc</th>\n",
       "    </tr>\n",
       "  </thead>\n",
       "  <tbody>\n",
       "    <tr>\n",
       "      <th>0</th>\n",
       "      <td>PAC-MAN Premium</td>\n",
       "      <td>100788224</td>\n",
       "      <td>USD</td>\n",
       "      <td>3.99</td>\n",
       "      <td>21292</td>\n",
       "      <td>26</td>\n",
       "      <td>4.0</td>\n",
       "      <td>4.5</td>\n",
       "      <td>6.3.5</td>\n",
       "      <td>4+</td>\n",
       "      <td>Games</td>\n",
       "      <td>38</td>\n",
       "      <td>5</td>\n",
       "      <td>10</td>\n",
       "      <td>1</td>\n",
       "      <td>SAVE 20%, now only $3.99 for a limited time!\\n...</td>\n",
       "    </tr>\n",
       "    <tr>\n",
       "      <th>1</th>\n",
       "      <td>Evernote - stay organized</td>\n",
       "      <td>158578688</td>\n",
       "      <td>USD</td>\n",
       "      <td>0.00</td>\n",
       "      <td>161065</td>\n",
       "      <td>26</td>\n",
       "      <td>4.0</td>\n",
       "      <td>3.5</td>\n",
       "      <td>8.2.2</td>\n",
       "      <td>4+</td>\n",
       "      <td>Productivity</td>\n",
       "      <td>37</td>\n",
       "      <td>5</td>\n",
       "      <td>23</td>\n",
       "      <td>1</td>\n",
       "      <td>Let Evernote change the way you organize your ...</td>\n",
       "    </tr>\n",
       "    <tr>\n",
       "      <th>2</th>\n",
       "      <td>WeatherBug - Local Weather, Radar, Maps, Alerts</td>\n",
       "      <td>100524032</td>\n",
       "      <td>USD</td>\n",
       "      <td>0.00</td>\n",
       "      <td>188583</td>\n",
       "      <td>2822</td>\n",
       "      <td>3.5</td>\n",
       "      <td>4.5</td>\n",
       "      <td>5.0.0</td>\n",
       "      <td>4+</td>\n",
       "      <td>Weather</td>\n",
       "      <td>37</td>\n",
       "      <td>5</td>\n",
       "      <td>3</td>\n",
       "      <td>1</td>\n",
       "      <td>Download the most popular free weather app pow...</td>\n",
       "    </tr>\n",
       "    <tr>\n",
       "      <th>3</th>\n",
       "      <td>eBay: Best App to Buy, Sell, Save! Online Shop...</td>\n",
       "      <td>128512000</td>\n",
       "      <td>USD</td>\n",
       "      <td>0.00</td>\n",
       "      <td>262241</td>\n",
       "      <td>649</td>\n",
       "      <td>4.0</td>\n",
       "      <td>4.5</td>\n",
       "      <td>5.10.0</td>\n",
       "      <td>12+</td>\n",
       "      <td>Shopping</td>\n",
       "      <td>37</td>\n",
       "      <td>5</td>\n",
       "      <td>9</td>\n",
       "      <td>1</td>\n",
       "      <td>The eBay app is the best way to find anything ...</td>\n",
       "    </tr>\n",
       "    <tr>\n",
       "      <th>4</th>\n",
       "      <td>Bible</td>\n",
       "      <td>92774400</td>\n",
       "      <td>USD</td>\n",
       "      <td>0.00</td>\n",
       "      <td>985920</td>\n",
       "      <td>5320</td>\n",
       "      <td>4.5</td>\n",
       "      <td>5.0</td>\n",
       "      <td>7.5.1</td>\n",
       "      <td>4+</td>\n",
       "      <td>Reference</td>\n",
       "      <td>37</td>\n",
       "      <td>5</td>\n",
       "      <td>45</td>\n",
       "      <td>1</td>\n",
       "      <td>On more than 250 million devices around the wo...</td>\n",
       "    </tr>\n",
       "  </tbody>\n",
       "</table>\n",
       "</div>"
      ],
      "text/plain": [
       "                                          track_name  size_bytes currency  \\\n",
       "0                                    PAC-MAN Premium   100788224      USD   \n",
       "1                          Evernote - stay organized   158578688      USD   \n",
       "2    WeatherBug - Local Weather, Radar, Maps, Alerts   100524032      USD   \n",
       "3  eBay: Best App to Buy, Sell, Save! Online Shop...   128512000      USD   \n",
       "4                                              Bible    92774400      USD   \n",
       "\n",
       "   price  rating_count_tot  rating_count_ver  user_rating  user_rating_ver  \\\n",
       "0   3.99             21292                26          4.0              4.5   \n",
       "1   0.00            161065                26          4.0              3.5   \n",
       "2   0.00            188583              2822          3.5              4.5   \n",
       "3   0.00            262241               649          4.0              4.5   \n",
       "4   0.00            985920              5320          4.5              5.0   \n",
       "\n",
       "      ver cont_rating   prime_genre  sup_devices.num  ipadSc_urls.num  \\\n",
       "0   6.3.5          4+         Games               38                5   \n",
       "1   8.2.2          4+  Productivity               37                5   \n",
       "2   5.0.0          4+       Weather               37                5   \n",
       "3  5.10.0         12+      Shopping               37                5   \n",
       "4   7.5.1          4+     Reference               37                5   \n",
       "\n",
       "   lang.num  vpp_lic                                           app_desc  \n",
       "0        10        1  SAVE 20%, now only $3.99 for a limited time!\\n...  \n",
       "1        23        1  Let Evernote change the way you organize your ...  \n",
       "2         3        1  Download the most popular free weather app pow...  \n",
       "3         9        1  The eBay app is the best way to find anything ...  \n",
       "4        45        1  On more than 250 million devices around the wo...  "
      ]
     },
     "execution_count": 29,
     "metadata": {},
     "output_type": "execute_result"
    }
   ],
   "source": [
    "df = pd.read_csv('apple.csv', sep = '\\t')\n",
    "\n",
    "df.drop('id', axis=1, inplace=True) # выбрасываю техническую колонку с id \n",
    " \n",
    "print(df.shape)\n",
    "df.head()"
   ]
  },
  {
   "cell_type": "markdown",
   "metadata": {},
   "source": [
    "__[1] Целевая переменная__ \n",
    "\n",
    "На основе этих данных можно посмотреть какими характеристиками должно обладать приложение, привлекающее людей и сделать своё приложение так, чтобы его рейтинги были максимально возможными. \n",
    "\n",
    "Целевой переменной для данной задачи будет рейтинг приложения. Нам хотелось бы, чтобы рейтинг нашего приложения был как можно выше. Будем считать, что нас устроит рейтинг $>4$. Разделим все приложения на хорошие и плохие и будем решать задачу классификации. Конечно можно было бы решать и задачу регрессии, но нам не нужна излишняя детализация. Какая разница, оценка у нашего приложени $2.6$ или $2.7$? Главное, что оно не привлекает пользователя. Новую целевую переменную запишите в колонку `is_popular`."
   ]
  },
  {
   "cell_type": "code",
   "execution_count": 24,
   "metadata": {},
   "outputs": [],
   "source": [
    "# Ваш код "
   ]
  },
  {
   "cell_type": "markdown",
   "metadata": {},
   "source": [
    "__[1] Размер приложухи__\n",
    "\n",
    "В колонке `rating_count_tot` находится число людей, которое поставило оценку приложению. Давайте разделим все приложения, которые у нас есть на два типа: молодые (у них мало оценок) и старые (у них есть уже много оценок). Создайте переменную `is_small`. Запишите туда $1$, если у приложения меньше $200$ оценок. "
   ]
  },
  {
   "cell_type": "code",
   "execution_count": null,
   "metadata": {},
   "outputs": [],
   "source": [
    "# Ваш код "
   ]
  },
  {
   "cell_type": "markdown",
   "metadata": {},
   "source": [
    "__[1] Рейтинг и размер__  \n",
    "\n",
    "Посотрим насколько сильно различается распределение оценок на большом и маленьком числе пользователей. Для этого построим две гистограммы. Одну для маленьких пользователей, вторую для больших.  "
   ]
  },
  {
   "cell_type": "code",
   "execution_count": null,
   "metadata": {},
   "outputs": [],
   "source": [
    "plt.figure(figsize=(7, 7))\n",
    "plt.hist(df[df['is_small'] == 0]['user_rating'], alpha = 0.6, normed=True, label=\"small\")\n",
    "\n",
    "# Ваш код для больших приложений\n",
    "\n",
    "plt.legend()\n",
    "plt.show()"
   ]
  },
  {
   "cell_type": "markdown",
   "metadata": {},
   "source": [
    "Проинтерпретируйте получившуюся картинку.  В чём заключается разница между большими приложениями и маленькими? \n",
    "\n",
    "__Ответ:__ "
   ]
  },
  {
   "cell_type": "markdown",
   "metadata": {},
   "source": [
    "Удалите колонки `user_rating`, `user_rating_ver`, `rating_count_ver`, `rating_count_tot`."
   ]
  },
  {
   "cell_type": "code",
   "execution_count": null,
   "metadata": {},
   "outputs": [],
   "source": [
    "# Ваш код "
   ]
  },
  {
   "cell_type": "markdown",
   "metadata": {},
   "source": [
    "__[1]__ Есть ли среди классов \"популярные приложения\" и \"непопулярные приложения\" дисбаланс среди мелких приложух? А среди больших? "
   ]
  },
  {
   "cell_type": "code",
   "execution_count": null,
   "metadata": {},
   "outputs": [],
   "source": [
    "# Ваш код "
   ]
  },
  {
   "cell_type": "markdown",
   "metadata": {},
   "source": [
    "__[2] Действительные переменные__\n",
    "\n",
    "Выделите в отдельный список действительные переменные. Проанализируйте, какие для них возникают проблемы. Исправьте все эти проблемы. Если вы видите, что для какой-то из переменных нужно сварить дополнительную фичу, как это произошло на семинаре, сделайте это прямо в этом пункте. "
   ]
  },
  {
   "cell_type": "code",
   "execution_count": null,
   "metadata": {},
   "outputs": [],
   "source": [
    "# Ваш код "
   ]
  },
  {
   "cell_type": "markdown",
   "metadata": {},
   "source": [
    "__[2] Категориальные переменные__ \n",
    "\n",
    "Выделите в отдельный список категориальные переменные. Проанализируйте, какие для них возникают проблемы. Исправьте их. Если вы видите, что для какой-то из переменных нужно сварить дополнительную фичу, как это произошло на семинаре, сделайте это прямо в этом пункте. \n",
    "\n",
    "__Важно:__ в колонках `track_name` и `app_desc` находятся текстовые описания и название. Они для каждого наблюдения уникальны. Не надо трогать эти колонки в этом пункте."
   ]
  },
  {
   "cell_type": "code",
   "execution_count": null,
   "metadata": {},
   "outputs": [],
   "source": [
    "# Ваш код "
   ]
  },
  {
   "cell_type": "markdown",
   "metadata": {},
   "source": [
    "__[1] Тексты__ \n",
    "\n",
    "Пора немного потрогать `track_name` и `app_desc`. Cделайте на их основе новые две переменные:  длина названия и длина описания. Добавьте их в датасет. "
   ]
  },
  {
   "cell_type": "code",
   "execution_count": null,
   "metadata": {},
   "outputs": [],
   "source": [
    "# Ваш код "
   ]
  },
  {
   "cell_type": "markdown",
   "metadata": {},
   "source": [
    "__[Бонусные баллы]__ \n",
    "\n",
    "Попробуйте на основе описания и названия приложения придумать какие-нибудь ещё переменные. Возможно, на ваш взгляд важно, что в описании упоминаются какие-то конкретные слова. Какие это могут быть слова? Возможно, из описания можно как-то извлечь информацию о скидках. \n",
    "\n",
    "__Важно:__ следите за тем, чтобы получившаяся переменая не оказывалась очень редкой. "
   ]
  },
  {
   "cell_type": "code",
   "execution_count": null,
   "metadata": {},
   "outputs": [],
   "source": [
    "# Ваш код "
   ]
  },
  {
   "cell_type": "markdown",
   "metadata": {},
   "source": [
    "__[1]__ Осталось разбить выборку на трэйн и тест и сохранить две таблички. В тест возьмите $20 \\%$ выборки. "
   ]
  },
  {
   "cell_type": "code",
   "execution_count": null,
   "metadata": {},
   "outputs": [],
   "source": [
    "# Ваш код "
   ]
  },
  {
   "cell_type": "markdown",
   "metadata": {},
   "source": [
    " "
   ]
  }
 ],
 "metadata": {
  "kernelspec": {
   "display_name": "Python 3",
   "language": "python",
   "name": "python3"
  },
  "language_info": {
   "codemirror_mode": {
    "name": "ipython",
    "version": 3
   },
   "file_extension": ".py",
   "mimetype": "text/x-python",
   "name": "python",
   "nbconvert_exporter": "python",
   "pygments_lexer": "ipython3",
   "version": "3.7.2"
  }
 },
 "nbformat": 4,
 "nbformat_minor": 2
}
