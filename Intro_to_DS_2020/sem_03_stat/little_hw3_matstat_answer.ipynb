{
 "cells": [
  {
   "cell_type": "markdown",
   "metadata": {},
   "source": [
    "<img align=\"center\" src=\"https://raw.githubusercontent.com/FUlyankin/Parsers/master/images%20/cats.jpg\" height=\"1200\" width=\"1200\"> \n",
    "\n",
    "# Мини-домашка по основам статистики\n",
    "\n",
    "У всех нас есть датасет по контакту. В нём лежит информация про всех нас. Эту информацию надо как следует проанализировать. Именно этим мы сейчас и займёмся.\n",
    "\n",
    "Подгрузим данные и посмотрим на первые пять строчек из таблицы."
   ]
  },
  {
   "cell_type": "code",
   "execution_count": 1,
   "metadata": {},
   "outputs": [
    {
     "data": {
      "text/html": [
       "<div>\n",
       "<style scoped>\n",
       "    .dataframe tbody tr th:only-of-type {\n",
       "        vertical-align: middle;\n",
       "    }\n",
       "\n",
       "    .dataframe tbody tr th {\n",
       "        vertical-align: top;\n",
       "    }\n",
       "\n",
       "    .dataframe thead th {\n",
       "        text-align: right;\n",
       "    }\n",
       "</style>\n",
       "<table border=\"1\" class=\"dataframe\">\n",
       "  <thead>\n",
       "    <tr style=\"text-align: right;\">\n",
       "      <th></th>\n",
       "      <th>city</th>\n",
       "      <th>country</th>\n",
       "      <th>first_name</th>\n",
       "      <th>home_town</th>\n",
       "      <th>in_hse_memes_group</th>\n",
       "      <th>is_bmm</th>\n",
       "      <th>is_closed</th>\n",
       "      <th>last_name</th>\n",
       "      <th>likes_memes</th>\n",
       "      <th>uid</th>\n",
       "      <th>...</th>\n",
       "      <th>photo_month_mean</th>\n",
       "      <th>photo_repost_cnt</th>\n",
       "      <th>photo_repost_max</th>\n",
       "      <th>photo_repost_mean</th>\n",
       "      <th>photo_repost_median</th>\n",
       "      <th>photo_text_len_cnt</th>\n",
       "      <th>photo_ava_change_cnt</th>\n",
       "      <th>photo_text_url_len_cnt</th>\n",
       "      <th>friends_from_course_cnt</th>\n",
       "      <th>friends_mail_from_course_pct</th>\n",
       "    </tr>\n",
       "  </thead>\n",
       "  <tbody>\n",
       "    <tr>\n",
       "      <th>0</th>\n",
       "      <td>Москва</td>\n",
       "      <td>Россия</td>\n",
       "      <td>Александра</td>\n",
       "      <td>Москва</td>\n",
       "      <td>True</td>\n",
       "      <td>True</td>\n",
       "      <td>False</td>\n",
       "      <td>Абашкова</td>\n",
       "      <td>60.0</td>\n",
       "      <td>182152789</td>\n",
       "      <td>...</td>\n",
       "      <td>1.333333</td>\n",
       "      <td>0.0</td>\n",
       "      <td>0.0</td>\n",
       "      <td>0.000000</td>\n",
       "      <td>0.0</td>\n",
       "      <td>0.0</td>\n",
       "      <td>0.0</td>\n",
       "      <td>0.0</td>\n",
       "      <td>42.0</td>\n",
       "      <td>0.428571</td>\n",
       "    </tr>\n",
       "    <tr>\n",
       "      <th>1</th>\n",
       "      <td>Рязань</td>\n",
       "      <td>Россия</td>\n",
       "      <td>Анастасия</td>\n",
       "      <td>Рязань</td>\n",
       "      <td>True</td>\n",
       "      <td>True</td>\n",
       "      <td>False</td>\n",
       "      <td>Чуфистова</td>\n",
       "      <td>0.0</td>\n",
       "      <td>148020433</td>\n",
       "      <td>...</td>\n",
       "      <td>2.375000</td>\n",
       "      <td>2.0</td>\n",
       "      <td>1.0</td>\n",
       "      <td>0.105263</td>\n",
       "      <td>0.0</td>\n",
       "      <td>0.0</td>\n",
       "      <td>0.0</td>\n",
       "      <td>0.0</td>\n",
       "      <td>32.0</td>\n",
       "      <td>0.281250</td>\n",
       "    </tr>\n",
       "    <tr>\n",
       "      <th>2</th>\n",
       "      <td>Москва</td>\n",
       "      <td>Россия</td>\n",
       "      <td>Александр</td>\n",
       "      <td>Омск</td>\n",
       "      <td>False</td>\n",
       "      <td>True</td>\n",
       "      <td>False</td>\n",
       "      <td>Головачев</td>\n",
       "      <td>0.0</td>\n",
       "      <td>138413935</td>\n",
       "      <td>...</td>\n",
       "      <td>1.400000</td>\n",
       "      <td>0.0</td>\n",
       "      <td>0.0</td>\n",
       "      <td>0.000000</td>\n",
       "      <td>0.0</td>\n",
       "      <td>0.0</td>\n",
       "      <td>0.0</td>\n",
       "      <td>0.0</td>\n",
       "      <td>32.0</td>\n",
       "      <td>0.406250</td>\n",
       "    </tr>\n",
       "    <tr>\n",
       "      <th>3</th>\n",
       "      <td>NaN</td>\n",
       "      <td>NaN</td>\n",
       "      <td>Анна</td>\n",
       "      <td>NaN</td>\n",
       "      <td>False</td>\n",
       "      <td>True</td>\n",
       "      <td>False</td>\n",
       "      <td>Лобанова</td>\n",
       "      <td>0.0</td>\n",
       "      <td>366261055</td>\n",
       "      <td>...</td>\n",
       "      <td>4.166667</td>\n",
       "      <td>0.0</td>\n",
       "      <td>0.0</td>\n",
       "      <td>0.000000</td>\n",
       "      <td>0.0</td>\n",
       "      <td>0.0</td>\n",
       "      <td>0.0</td>\n",
       "      <td>0.0</td>\n",
       "      <td>45.0</td>\n",
       "      <td>0.333333</td>\n",
       "    </tr>\n",
       "    <tr>\n",
       "      <th>4</th>\n",
       "      <td>NaN</td>\n",
       "      <td>Россия</td>\n",
       "      <td>Алексей</td>\n",
       "      <td>NaN</td>\n",
       "      <td>True</td>\n",
       "      <td>True</td>\n",
       "      <td>False</td>\n",
       "      <td>Пузырный</td>\n",
       "      <td>21.0</td>\n",
       "      <td>111252392</td>\n",
       "      <td>...</td>\n",
       "      <td>3.181818</td>\n",
       "      <td>0.0</td>\n",
       "      <td>0.0</td>\n",
       "      <td>0.000000</td>\n",
       "      <td>0.0</td>\n",
       "      <td>0.0</td>\n",
       "      <td>0.0</td>\n",
       "      <td>0.0</td>\n",
       "      <td>41.0</td>\n",
       "      <td>0.341463</td>\n",
       "    </tr>\n",
       "  </tbody>\n",
       "</table>\n",
       "<p>5 rows × 98 columns</p>\n",
       "</div>"
      ],
      "text/plain": [
       "     city country  first_name home_town  in_hse_memes_group  is_bmm  \\\n",
       "0  Москва  Россия  Александра    Москва                True    True   \n",
       "1  Рязань  Россия   Анастасия    Рязань                True    True   \n",
       "2  Москва  Россия   Александр      Омск               False    True   \n",
       "3     NaN     NaN        Анна       NaN               False    True   \n",
       "4     NaN  Россия     Алексей       NaN                True    True   \n",
       "\n",
       "   is_closed  last_name  likes_memes        uid  ...  photo_month_mean  \\\n",
       "0      False   Абашкова         60.0  182152789  ...          1.333333   \n",
       "1      False  Чуфистова          0.0  148020433  ...          2.375000   \n",
       "2      False  Головачев          0.0  138413935  ...          1.400000   \n",
       "3      False   Лобанова          0.0  366261055  ...          4.166667   \n",
       "4      False   Пузырный         21.0  111252392  ...          3.181818   \n",
       "\n",
       "   photo_repost_cnt  photo_repost_max  photo_repost_mean  photo_repost_median  \\\n",
       "0               0.0               0.0           0.000000                  0.0   \n",
       "1               2.0               1.0           0.105263                  0.0   \n",
       "2               0.0               0.0           0.000000                  0.0   \n",
       "3               0.0               0.0           0.000000                  0.0   \n",
       "4               0.0               0.0           0.000000                  0.0   \n",
       "\n",
       "   photo_text_len_cnt  photo_ava_change_cnt  photo_text_url_len_cnt  \\\n",
       "0                 0.0                   0.0                     0.0   \n",
       "1                 0.0                   0.0                     0.0   \n",
       "2                 0.0                   0.0                     0.0   \n",
       "3                 0.0                   0.0                     0.0   \n",
       "4                 0.0                   0.0                     0.0   \n",
       "\n",
       "   friends_from_course_cnt  friends_mail_from_course_pct  \n",
       "0                     42.0                      0.428571  \n",
       "1                     32.0                      0.281250  \n",
       "2                     32.0                      0.406250  \n",
       "3                     45.0                      0.333333  \n",
       "4                     41.0                      0.341463  \n",
       "\n",
       "[5 rows x 98 columns]"
      ]
     },
     "execution_count": 1,
     "metadata": {},
     "output_type": "execute_result"
    }
   ],
   "source": [
    "import pandas as pd\n",
    "\n",
    "df = pd.read_csv('../data/vk_download/vk_main.csv', sep='\\t')\n",
    "df.head()"
   ]
  },
  {
   "cell_type": "code",
   "execution_count": 4,
   "metadata": {},
   "outputs": [
    {
     "data": {
      "text/plain": [
       "1.0"
      ]
     },
     "execution_count": 4,
     "metadata": {},
     "output_type": "execute_result"
    }
   ],
   "source": [
    "df.photo_month_mean.min()"
   ]
  },
  {
   "cell_type": "markdown",
   "metadata": {},
   "source": [
    "__[1] Сколько парней/девушек указали в профиле, что знают английский?__  \n",
    "\n",
    "Эта информация лежит в переменной `english_dummy`. Значение $1$ означает, что английский язык указан в профиле."
   ]
  },
  {
   "cell_type": "code",
   "execution_count": 2,
   "metadata": {},
   "outputs": [
    {
     "data": {
      "text/plain": [
       "63"
      ]
     },
     "execution_count": 2,
     "metadata": {},
     "output_type": "execute_result"
    }
   ],
   "source": [
    "# Привет, я питоновская тетрадка. Я хочу, чтобы ты написал во мне код.\n",
    "df.english_dummy.sum()  # всего"
   ]
  },
  {
   "cell_type": "code",
   "execution_count": 4,
   "metadata": {},
   "outputs": [
    {
     "data": {
      "text/plain": [
       "male_dummy\n",
       "0    26\n",
       "1    22\n",
       "Name: english_dummy, dtype: int64"
      ]
     },
     "execution_count": 4,
     "metadata": {},
     "output_type": "execute_result"
    }
   ],
   "source": [
    "# можно найти для парней и девушек по-отдельности\n",
    "df.groupby('male_dummy').agg('sum')['english_dummy']"
   ]
  },
  {
   "cell_type": "markdown",
   "metadata": {},
   "source": [
    "__[1] У скольких человек с маркетинга нет авы?__\n",
    "\n",
    "Используй переменные `is_bmm` и `has_ava_dummy` (значение `True` можно воспринимать как $1$, а `False` --- как $0$). "
   ]
  },
  {
   "cell_type": "code",
   "execution_count": 9,
   "metadata": {},
   "outputs": [
    {
     "data": {
      "text/plain": [
       "(6, 98)"
      ]
     },
     "execution_count": 9,
     "metadata": {},
     "output_type": "execute_result"
    }
   ],
   "source": [
    "# Я, конечно, не дневник Тома Рэдла, но и ты не Гарри Поттер. Поэтому давай пообщаемся. \n",
    "df[(df.is_bmm == 1) & (df.has_ava_dummy == 0)].shape"
   ]
  },
  {
   "cell_type": "markdown",
   "metadata": {},
   "source": [
    "В переменной `alco_love_cat` лежит число от $1$ до $5$. Единица означает резко негативное отношение к алкоголю, $5$ резко позитивное. \n",
    "\n",
    "__[1] Сколько человек указали своё отношение к алкоголю (в поле стоит не NaN)?__"
   ]
  },
  {
   "cell_type": "code",
   "execution_count": 5,
   "metadata": {},
   "outputs": [
    {
     "data": {
      "text/plain": [
       "103"
      ]
     },
     "execution_count": 5,
     "metadata": {},
     "output_type": "execute_result"
    }
   ],
   "source": [
    "# У тебя неплохо получается писать во мне код, напишешь ещё?\n",
    "df.shape[0] - df['alco_love_cat'].isnull().sum()"
   ]
  },
  {
   "cell_type": "markdown",
   "metadata": {},
   "source": [
    "__[1] Какое число людей относится к алкоголю позитивно/негативно? Подсчитайте число людей в каждой категории.__ "
   ]
  },
  {
   "cell_type": "code",
   "execution_count": 5,
   "metadata": {},
   "outputs": [
    {
     "data": {
      "text/plain": [
       "0.0    73\n",
       "4.0    10\n",
       "1.0    10\n",
       "3.0     5\n",
       "2.0     3\n",
       "5.0     2\n",
       "Name: alco_love_cat, dtype: int64"
      ]
     },
     "execution_count": 5,
     "metadata": {},
     "output_type": "execute_result"
    }
   ],
   "source": [
    "# Ну пожалуйста! Напиши ещё строчечку!\n",
    "df['alco_love_cat'].value_counts() "
   ]
  },
  {
   "cell_type": "markdown",
   "metadata": {},
   "source": [
    "В переменной `is_closed` лежат `True`, если профиль человека является приватным.\n",
    "\n",
    "__[2] Правда ли, что девушки-первокурсницы закрывают свой профиль чаще, чем парни? Какая доля парней закрыла профиль? Какая доля девушек закрыла профиль?__ "
   ]
  },
  {
   "cell_type": "code",
   "execution_count": 11,
   "metadata": {},
   "outputs": [
    {
     "data": {
      "text/plain": [
       "male_dummy\n",
       "0    19.0\n",
       "1    22.0\n",
       "Name: is_closed, dtype: float64"
      ]
     },
     "execution_count": 11,
     "metadata": {},
     "output_type": "execute_result"
    }
   ],
   "source": [
    "# Ты молодец! У меня ещё никогда не было такого студента(тки)\n",
    "\n",
    "# Нет, не правда. Парни чаще.\n",
    "df.groupby('male_dummy').agg('sum')['is_closed']"
   ]
  },
  {
   "cell_type": "markdown",
   "metadata": {},
   "source": [
    "__[4] Какие утверждения из нижеперечисленных правдивые, а какие лживые?__\n",
    "\n",
    "* У парней, _состоящих_ в группе с мемами `in_hse_memes_group`, больше репостов на стене `wall_repost_cnt`, чем у девушек, _не состоящих_ в той же группе\n",
    "* У девушек не из Москвы в среднем на стенках меньше $80$ лайков (`wall_like_mean`)\n",
    "* Если человек указал на странице свои политические предпочтения, он скорее всего либерал (`political_cat`)\n",
    "* Переменная, говорящая сколько раз человек сменил аватарку, `photo_ava_change_cnt` не скачалась в датасет\n",
    "* Больше всего подписок на паблики `subscriptions_cnt` у студентов из Узбекистана\n",
    "\n",
    "Каждое утверждение должно быть проверено кодом! Иначе баллов за него не будет. "
   ]
  },
  {
   "cell_type": "code",
   "execution_count": 7,
   "metadata": {},
   "outputs": [],
   "source": [
    "# А сможешь разобраться с этими фактами и дать на них ответы?"
   ]
  },
  {
   "cell_type": "code",
   "execution_count": 65,
   "metadata": {
    "scrolled": true
   },
   "outputs": [
    {
     "data": {
      "text/plain": [
       "in_hse_memes_group  male_dummy\n",
       "False               0              8.390244\n",
       "                    1             28.101695\n",
       "True                0             21.639456\n",
       "                    1             19.135417\n",
       "Name: wall_repost_cnt, dtype: float64"
      ]
     },
     "execution_count": 65,
     "metadata": {},
     "output_type": "execute_result"
    }
   ],
   "source": [
    "# 1. Репосты\n",
    "# Всё так\n",
    "df.groupby(['in_hse_memes_group', 'male_dummy']).wall_repost_cnt.mean()"
   ]
  },
  {
   "cell_type": "code",
   "execution_count": 9,
   "metadata": {},
   "outputs": [
    {
     "data": {
      "text/plain": [
       "1"
      ]
     },
     "execution_count": 9,
     "metadata": {},
     "output_type": "execute_result"
    }
   ],
   "source": [
    "# 2. Девушки не из Москвы и лайки\n",
    "# Нечёткий вопрос. Можно сказать, что нет если смотреть так: \n",
    "sum(df[df['city'] != 'Москва']['wall_like_mean'] > 80)"
   ]
  },
  {
   "cell_type": "code",
   "execution_count": 10,
   "metadata": {},
   "outputs": [
    {
     "data": {
      "text/plain": [
       "17.118164840817947"
      ]
     },
     "execution_count": 10,
     "metadata": {},
     "output_type": "execute_result"
    }
   ],
   "source": [
    "# либо да, если понять вопрос так\n",
    "# за любую из проверок - полный балл\n",
    "df[df['city'] != 'Москва']['wall_like_mean'].mean()"
   ]
  },
  {
   "cell_type": "code",
   "execution_count": 11,
   "metadata": {},
   "outputs": [
    {
     "data": {
      "text/plain": [
       "умеренные           9\n",
       "либеральные         5\n",
       "коммунистические    2\n",
       "либертарианские     2\n",
       "индифферентные      2\n",
       "Name: political_cat, dtype: int64"
      ]
     },
     "execution_count": 11,
     "metadata": {},
     "output_type": "execute_result"
    }
   ],
   "source": [
    "# 3. Про либералов \n",
    "df['political_cat'].value_counts()  # неправда, умеренный"
   ]
  },
  {
   "cell_type": "code",
   "execution_count": 38,
   "metadata": {},
   "outputs": [
    {
     "data": {
      "text/plain": [
       "0.0    376\n",
       "Name: photo_ava_change_cnt, dtype: int64"
      ]
     },
     "execution_count": 38,
     "metadata": {},
     "output_type": "execute_result"
    }
   ],
   "source": [
    "# 4. Про смену аватарки \n",
    "df['photo_ava_change_cnt'].value_counts() # везде ноль, по ходу правда не скачалась"
   ]
  },
  {
   "cell_type": "code",
   "execution_count": 54,
   "metadata": {},
   "outputs": [
    {
     "data": {
      "text/plain": [
       "country\n",
       "Беларусь                          5.000000\n",
       "Великобритания                    1.500000\n",
       "Венгрия                           2.000000\n",
       "Испания                           6.000000\n",
       "Казахстан                         0.500000\n",
       "Кыргызстан                        0.500000\n",
       "Молдова                           0.000000\n",
       "Объединенные Арабские Эмираты    65.000000\n",
       "Португалия                        0.000000\n",
       "Россия                            5.793605\n",
       "США                               5.000000\n",
       "Сингапур                          0.000000\n",
       "Узбекистан                       22.000000\n",
       "Украина                           7.000000\n",
       "Name: subscriptions_cnt, dtype: float64"
      ]
     },
     "execution_count": 54,
     "metadata": {},
     "output_type": "execute_result"
    }
   ],
   "source": [
    "# 5. Про подписки\n",
    "# Узбекистан сильно не дотянул до ОАЭ\n",
    "df.groupby('country').subscriptions_cnt.mean()"
   ]
  },
  {
   "cell_type": "markdown",
   "metadata": {},
   "source": [
    "__[n]  Удиви нас. Попробуй найти в данных какую-то классную особенность. Если у тебя это получится, мы поставим дополнительные баллы.__ Если вы найдёте полную фигню (сколько всего друзей у Маши или типа того), баллов не будет. Найденный факт реально должен выносить мозг и сносить крышу."
   ]
  },
  {
   "cell_type": "code",
   "execution_count": null,
   "metadata": {},
   "outputs": [],
   "source": [
    "# Попробуй меня на вкус!"
   ]
  },
  {
   "cell_type": "markdown",
   "metadata": {},
   "source": [
    "Фидбэк по домашке и свои нюни можно оставить в [анонимном опроснике.](https://docs.google.com/forms/d/e/1FAIpQLScXIVQNUJW03k76zB5RcOHX0iORIfV-d1-8_KQS4GcuKO5SoA/viewform)"
   ]
  }
 ],
 "metadata": {
  "kernelspec": {
   "display_name": "python3-venv",
   "language": "python",
   "name": "python3-venv"
  },
  "language_info": {
   "codemirror_mode": {
    "name": "ipython",
    "version": 3
   },
   "file_extension": ".py",
   "mimetype": "text/x-python",
   "name": "python",
   "nbconvert_exporter": "python",
   "pygments_lexer": "ipython3",
   "version": "3.6.5"
  },
  "toc": {
   "base_numbering": 1,
   "nav_menu": {},
   "number_sections": false,
   "sideBar": true,
   "skip_h1_title": false,
   "title_cell": "Table of Contents",
   "title_sidebar": "Contents",
   "toc_cell": false,
   "toc_position": {},
   "toc_section_display": true,
   "toc_window_display": false
  }
 },
 "nbformat": 4,
 "nbformat_minor": 2
}
