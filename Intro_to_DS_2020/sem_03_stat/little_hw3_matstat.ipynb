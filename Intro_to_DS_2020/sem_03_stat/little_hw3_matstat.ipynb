{
 "cells": [
  {
   "cell_type": "markdown",
   "metadata": {},
   "source": [
    "<img align=\"center\" src=\"https://raw.githubusercontent.com/FUlyankin/Parsers/master/images%20/cats.jpg\" height=\"1200\" width=\"1200\"> \n",
    "\n",
    "# Мини-домашка по основам статистики\n",
    "\n",
    "У всех нас есть датасет по контакту. В нём лежит информация про всех нас. Эту информацию надо как следует проанализировать. Именно этим мы сейчас и займёмся.\n",
    "\n",
    "Подгрузим данные и посмотрим на первые пять строчек из таблицы."
   ]
  },
  {
   "cell_type": "code",
   "execution_count": null,
   "metadata": {},
   "outputs": [],
   "source": [
    "import pandas as pd\n",
    "\n",
    "df = pd.read_csv('../data/vk_download/vk_main.csv', sep='\\t')\n",
    "df.head()"
   ]
  },
  {
   "cell_type": "markdown",
   "metadata": {},
   "source": [
    "__[1] Сколько парней/девушек указали в профиле, что знают английский?__  \n",
    "\n",
    "Эта информация лежит в переменной `english_dummy`. Значение $1$ означает, что английский язык указан в профиле."
   ]
  },
  {
   "cell_type": "code",
   "execution_count": null,
   "metadata": {},
   "outputs": [],
   "source": [
    "# Привет, я питоновская тетрадка. Я хочу, чтобы ты написал во мне код.\n"
   ]
  },
  {
   "cell_type": "markdown",
   "metadata": {},
   "source": [
    "__[1] У скольких человек с маркетинга нет авы?__\n",
    "\n",
    "Используй переменные `is_bmm` и `has_ava_dummy` (значение `True` можно воспринимать как $1$, а `False` --- как $0$). "
   ]
  },
  {
   "cell_type": "code",
   "execution_count": null,
   "metadata": {},
   "outputs": [],
   "source": [
    "# Я, конечно, не дневник Тома Рэдла, но и ты не Гарри Поттер. Поэтому давай пообщаемся. \n"
   ]
  },
  {
   "cell_type": "markdown",
   "metadata": {},
   "source": [
    "В переменной `alco_love_cat` лежит число от $1$ до $5$. Единица означает резко негативное отношение к алкоголю, $5$ резко позитивное. \n",
    "\n",
    "__[1] Сколько человек указали своё отношение к алкоголю (в поле стоит не NaN)?__"
   ]
  },
  {
   "cell_type": "code",
   "execution_count": null,
   "metadata": {},
   "outputs": [],
   "source": [
    "# У тебя неплохо получается писать во мне код, напишешь ещё?\n"
   ]
  },
  {
   "cell_type": "markdown",
   "metadata": {},
   "source": [
    "__[1] Какое число людей относится к алкоголю позитивно/негативно? Подсчитайте число людей в каждой категории.__ "
   ]
  },
  {
   "cell_type": "code",
   "execution_count": null,
   "metadata": {},
   "outputs": [],
   "source": [
    "# Ну пожалуйста! Напиши ещё строчечку!\n"
   ]
  },
  {
   "cell_type": "markdown",
   "metadata": {},
   "source": [
    "В переменной `is_closed` лежат `True`, если профиль человека является приватным.\n",
    "\n",
    "__[2] Правда ли, что девушки-первокурсницы закрывают свой профиль чаще, чем парни? Какая доля парней закрыла профиль? Какая доля девушек закрыла профиль?__ "
   ]
  },
  {
   "cell_type": "code",
   "execution_count": null,
   "metadata": {},
   "outputs": [],
   "source": [
    "# Ты молодец! У меня ещё никогда не было такого студента(тки)\n",
    "\n",
    "# Нет, не правда. Парни чаще.\n"
   ]
  },
  {
   "cell_type": "markdown",
   "metadata": {},
   "source": [
    "__[4] Какие утверждения из нижеперечисленных правдивые, а какие лживые?__\n",
    "\n",
    "* У парней, _состоящих_ в группе с мемами `in_hse_memes_group`, больше репостов на стене `wall_repost_cnt`, чем у девушек, _не состоящих_ в той же группе\n",
    "* У девушек не из Москвы в среднем на стенках меньше $80$ лайков (`wall_like_mean`)\n",
    "* Если человек указал на странице свои политические предпочтения, он скорее всего либерал (`political_cat`)\n",
    "* Переменная, говорящая сколько раз человек сменил аватарку, `photo_ava_change_cnt` не скачалась в датасет\n",
    "* Больше всего подписок на паблики `subscriptions_cnt` у студентов из Узбекистана\n",
    "\n",
    "Каждое утверждение должно быть проверено кодом! Иначе баллов за него не будет. "
   ]
  },
  {
   "cell_type": "code",
   "execution_count": null,
   "metadata": {},
   "outputs": [],
   "source": [
    "# А сможешь разобраться с этими фактами и дать на них ответы?"
   ]
  },
  {
   "cell_type": "code",
   "execution_count": null,
   "metadata": {
    "scrolled": true
   },
   "outputs": [],
   "source": [
    "# 1. Репосты\n"
   ]
  },
  {
   "cell_type": "code",
   "execution_count": null,
   "metadata": {},
   "outputs": [],
   "source": [
    "# 2. Девушки не из Москвы и лайки\n"
   ]
  },
  {
   "cell_type": "code",
   "execution_count": null,
   "metadata": {},
   "outputs": [],
   "source": [
    "# 3. Про либералов \n"
   ]
  },
  {
   "cell_type": "code",
   "execution_count": null,
   "metadata": {},
   "outputs": [],
   "source": [
    "# 4. Про смену аватарки \n"
   ]
  },
  {
   "cell_type": "code",
   "execution_count": null,
   "metadata": {},
   "outputs": [],
   "source": [
    "# 5. Про подписки\n"
   ]
  },
  {
   "cell_type": "markdown",
   "metadata": {},
   "source": [
    "__[n]  Удиви нас. Попробуй найти в данных какую-то классную особенность. Если у тебя это получится, мы поставим дополнительные баллы.__ Если вы найдёте полную фигню (сколько всего друзей у Маши или типа того), баллов не будет. Найденный факт реально должен выносить мозг и сносить крышу."
   ]
  },
  {
   "cell_type": "code",
   "execution_count": null,
   "metadata": {},
   "outputs": [],
   "source": [
    "# Попробуй меня на вкус!\n"
   ]
  },
  {
   "cell_type": "markdown",
   "metadata": {},
   "source": [
    "Фидбэк по домашке и свои нюни можно оставить в [анонимном опроснике.](https://docs.google.com/forms/d/e/1FAIpQLScXIVQNUJW03k76zB5RcOHX0iORIfV-d1-8_KQS4GcuKO5SoA/viewform)"
   ]
  }
 ],
 "metadata": {
  "kernelspec": {
   "display_name": "python3-venv",
   "language": "python",
   "name": "python3-venv"
  },
  "language_info": {
   "codemirror_mode": {
    "name": "ipython",
    "version": 3
   },
   "file_extension": ".py",
   "mimetype": "text/x-python",
   "name": "python",
   "nbconvert_exporter": "python",
   "pygments_lexer": "ipython3",
   "version": "3.6.5"
  },
  "toc": {
   "base_numbering": 1,
   "nav_menu": {},
   "number_sections": false,
   "sideBar": true,
   "skip_h1_title": false,
   "title_cell": "Table of Contents",
   "title_sidebar": "Contents",
   "toc_cell": false,
   "toc_position": {},
   "toc_section_display": true,
   "toc_window_display": false
  }
 },
 "nbformat": 4,
 "nbformat_minor": 2
}
